{
  "nbformat": 4,
  "nbformat_minor": 0,
  "metadata": {
    "colab": {
      "provenance": [],
      "collapsed_sections": []
    },
    "kernelspec": {
      "name": "python3",
      "display_name": "Python 3"
    },
    "language_info": {
      "name": "python"
    }
  },
  "cells": [
    {
      "cell_type": "code",
      "execution_count": null,
      "metadata": {
        "id": "QRg5Pn1i5K52"
      },
      "outputs": [],
      "source": [
        "import numpy as np\n",
        "import pandas as pd\n",
        "import seaborn as srs\n",
        "import matplotlib.pyplot as plt\n",
        "from sklearn.model_selection import train_test_split\n",
        "from sklearn.preprocessing import LabelEncoder"
      ]
    },
    {
      "cell_type": "code",
      "source": [
        "pengu = pd.read_csv('penguins_size.csv')\n",
        "pengu.head() #prints first 5 rows of dataset"
      ],
      "metadata": {
        "id": "mXMZAzhj5YQ0"
      },
      "execution_count": null,
      "outputs": []
    },
    {
      "cell_type": "code",
      "source": [
        "pengu['is_male'] = pengu['sex'].map( {'MALE':1, 'FEMALE':0} )\n",
        "pengu[['sex', 'is_male']]"
      ],
      "metadata": {
        "id": "tQF9AGh_7CpK"
      },
      "execution_count": null,
      "outputs": []
    },
    {
      "cell_type": "code",
      "source": [
        "pengu = pd.concat([pengu, pd.get_dummies(pengu['island'], prefix='island')], axis=1)\n"
      ],
      "metadata": {
        "id": "aM8pmjLPm9Mj"
      },
      "execution_count": null,
      "outputs": []
    },
    {
      "cell_type": "code",
      "source": [
        "pengu = pengu.dropna() #drop all the null values\n",
        "pengu.info()"
      ],
      "metadata": {
        "id": "itD6xff2_IKn"
      },
      "execution_count": null,
      "outputs": []
    },
    {
      "cell_type": "code",
      "source": [
        "X = pengu[['culmen_length_mm', 'culmen_depth_mm', 'flipper_length_mm', 'body_mass_g', 'is_male']]\n",
        "Y = pengu['species']"
      ],
      "metadata": {
        "id": "ISM-tb1Z7ONi"
      },
      "execution_count": null,
      "outputs": []
    },
    {
      "cell_type": "code",
      "source": [
        "#splitting the data into training and test sets with 70:30 ratio\n",
        "X_train, X_test, Y_train, Y_test = train_test_split( X, Y, test_size = 0.3, random_state = 100)"
      ],
      "metadata": {
        "id": "4A4rUNRsB-Dd"
      },
      "execution_count": null,
      "outputs": []
    },
    {
      "cell_type": "code",
      "source": [
        "from sklearn.tree import DecisionTreeClassifier"
      ],
      "metadata": {
        "id": "-mvbJYUUB-pd"
      },
      "execution_count": null,
      "outputs": []
    },
    {
      "cell_type": "code",
      "source": [
        "DT1 = DecisionTreeClassifier(criterion = 'gini' , max_depth = 3 , min_samples_split = 3, random_state = 100)"
      ],
      "metadata": {
        "id": "-ZYGW1P5CCeT"
      },
      "execution_count": null,
      "outputs": []
    },
    {
      "cell_type": "code",
      "source": [
        "DT1.fit(X_train,Y_train)"
      ],
      "metadata": {
        "id": "jmYkRTi7CGIx"
      },
      "execution_count": null,
      "outputs": []
    },
    {
      "cell_type": "code",
      "source": [
        "ypred = DT1.predict(X_test)"
      ],
      "metadata": {
        "id": "nSM6E_hRCIit"
      },
      "execution_count": null,
      "outputs": []
    },
    {
      "cell_type": "code",
      "source": [
        "DT1.score(X_train,Y_train)  #model score"
      ],
      "metadata": {
        "id": "HBOmPdPfCfbD"
      },
      "execution_count": null,
      "outputs": []
    },
    {
      "cell_type": "code",
      "source": [
        "from sklearn.metrics import confusion_matrix , classification_report"
      ],
      "metadata": {
        "id": "LuGq_kJ4CiEJ"
      },
      "execution_count": null,
      "outputs": []
    },
    {
      "cell_type": "code",
      "source": [
        "#The confusion matrix for predictions vs test cases\n",
        "print(\"confusion matrix: \\n\",confusion_matrix(Y_test,ypred),end=\"\\n\")\n",
        "print(\"classification report:\\n\",classification_report(Y_test,ypred))"
      ],
      "metadata": {
        "id": "C6hB3mpvCl5g"
      },
      "execution_count": null,
      "outputs": []
    }
  ]
}